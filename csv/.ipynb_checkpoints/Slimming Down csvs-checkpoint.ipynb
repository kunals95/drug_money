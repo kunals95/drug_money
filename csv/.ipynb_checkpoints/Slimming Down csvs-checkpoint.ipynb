{
 "cells": [
  {
   "cell_type": "code",
   "execution_count": 1,
   "metadata": {},
   "outputs": [],
   "source": [
    "import pandas as pd\n",
    "import numpy as np"
   ]
  },
  {
   "cell_type": "code",
   "execution_count": 2,
   "metadata": {},
   "outputs": [],
   "source": [
    "pd.set_option(\"display.max_columns\",50)"
   ]
  },
  {
   "cell_type": "code",
   "execution_count": 8,
   "metadata": {},
   "outputs": [
    {
     "name": "stderr",
     "output_type": "stream",
     "text": [
      "/usr/local/lib/python3.8/site-packages/IPython/core/interactiveshell.py:3155: DtypeWarning: Columns (20,22,23,24,25) have mixed types.Specify dtype option on import or set low_memory=False.\n",
      "  has_raised = await self.run_ast_nodes(code_ast.body, cell_name,\n"
     ]
    }
   ],
   "source": [
    "scripts = pd.read_csv('nj_scripts_all_years.csv',dtype={'zip':object,'npi':object})\n",
    "\n",
    "pay = pd.read_csv(\"nj_payments_all_years_consl.csv\",dtype={'zip':object,'npi':object,'company_id':object})"
   ]
  },
  {
   "cell_type": "markdown",
   "metadata": {},
   "source": [
    "# Slimming down datasets"
   ]
  },
  {
   "cell_type": "code",
   "execution_count": 9,
   "metadata": {},
   "outputs": [
    {
     "data": {
      "text/html": [
       "<div>\n",
       "<style scoped>\n",
       "    .dataframe tbody tr th:only-of-type {\n",
       "        vertical-align: middle;\n",
       "    }\n",
       "\n",
       "    .dataframe tbody tr th {\n",
       "        vertical-align: top;\n",
       "    }\n",
       "\n",
       "    .dataframe thead th {\n",
       "        text-align: right;\n",
       "    }\n",
       "</style>\n",
       "<table border=\"1\" class=\"dataframe\">\n",
       "  <thead>\n",
       "    <tr style=\"text-align: right;\">\n",
       "      <th></th>\n",
       "      <th>amount_brand</th>\n",
       "      <th>brand_drug?</th>\n",
       "      <th>drug_name</th>\n",
       "      <th>generic_name</th>\n",
       "      <th>npi</th>\n",
       "      <th>city</th>\n",
       "      <th>fn</th>\n",
       "      <th>ln</th>\n",
       "      <th>state</th>\n",
       "      <th>recieved_payments</th>\n",
       "      <th>specialty_description</th>\n",
       "      <th>total_claim_count</th>\n",
       "      <th>total_day_supply</th>\n",
       "      <th>total_drug_cost</th>\n",
       "      <th>year</th>\n",
       "      <th>drug_company</th>\n",
       "    </tr>\n",
       "  </thead>\n",
       "  <tbody>\n",
       "    <tr>\n",
       "      <th>0</th>\n",
       "      <td>48</td>\n",
       "      <td>True</td>\n",
       "      <td>VIAGRA</td>\n",
       "      <td>SILDENAFIL</td>\n",
       "      <td>1528036670</td>\n",
       "      <td>MAYWOOD</td>\n",
       "      <td>VINCENT</td>\n",
       "      <td>LANTERI</td>\n",
       "      <td>NJ</td>\n",
       "      <td>True</td>\n",
       "      <td>Urology</td>\n",
       "      <td>48</td>\n",
       "      <td>1481</td>\n",
       "      <td>8957.33</td>\n",
       "      <td>2013</td>\n",
       "      <td>PFIZER INC</td>\n",
       "    </tr>\n",
       "    <tr>\n",
       "      <th>1</th>\n",
       "      <td>0</td>\n",
       "      <td>False</td>\n",
       "      <td>CLOTRIMAZOLE BETAMETHASONE</td>\n",
       "      <td>CLOTRIMAZOLE BETAMETHASONE</td>\n",
       "      <td>1528036670</td>\n",
       "      <td>MAYWOOD</td>\n",
       "      <td>VINCENT</td>\n",
       "      <td>LANTERI</td>\n",
       "      <td>NJ</td>\n",
       "      <td>True</td>\n",
       "      <td>Urology</td>\n",
       "      <td>16</td>\n",
       "      <td>367</td>\n",
       "      <td>806.59</td>\n",
       "      <td>2013</td>\n",
       "      <td>GENERIC</td>\n",
       "    </tr>\n",
       "    <tr>\n",
       "      <th>2</th>\n",
       "      <td>0</td>\n",
       "      <td>False</td>\n",
       "      <td>IMIPRAMINE</td>\n",
       "      <td>IMIPRAMINE</td>\n",
       "      <td>1528036670</td>\n",
       "      <td>MAYWOOD</td>\n",
       "      <td>VINCENT</td>\n",
       "      <td>LANTERI</td>\n",
       "      <td>NJ</td>\n",
       "      <td>True</td>\n",
       "      <td>Urology</td>\n",
       "      <td>27</td>\n",
       "      <td>1380</td>\n",
       "      <td>519.91</td>\n",
       "      <td>2013</td>\n",
       "      <td>GENERIC</td>\n",
       "    </tr>\n",
       "    <tr>\n",
       "      <th>3</th>\n",
       "      <td>0</td>\n",
       "      <td>False</td>\n",
       "      <td>NITROFURANTOIN</td>\n",
       "      <td>NITROFURANTOIN</td>\n",
       "      <td>1528036670</td>\n",
       "      <td>MAYWOOD</td>\n",
       "      <td>VINCENT</td>\n",
       "      <td>LANTERI</td>\n",
       "      <td>NJ</td>\n",
       "      <td>True</td>\n",
       "      <td>Urology</td>\n",
       "      <td>34</td>\n",
       "      <td>1480</td>\n",
       "      <td>1502.16</td>\n",
       "      <td>2013</td>\n",
       "      <td>GENERIC</td>\n",
       "    </tr>\n",
       "    <tr>\n",
       "      <th>4</th>\n",
       "      <td>29</td>\n",
       "      <td>True</td>\n",
       "      <td>ANDROGEL</td>\n",
       "      <td>TESTOSTERONE</td>\n",
       "      <td>1528036670</td>\n",
       "      <td>MAYWOOD</td>\n",
       "      <td>VINCENT</td>\n",
       "      <td>LANTERI</td>\n",
       "      <td>NJ</td>\n",
       "      <td>True</td>\n",
       "      <td>Urology</td>\n",
       "      <td>29</td>\n",
       "      <td>1236</td>\n",
       "      <td>17234.63</td>\n",
       "      <td>2013</td>\n",
       "      <td>ABBVIE INC</td>\n",
       "    </tr>\n",
       "    <tr>\n",
       "      <th>5</th>\n",
       "      <td>0</td>\n",
       "      <td>False</td>\n",
       "      <td>ACETAMINOPHEN CODEINE</td>\n",
       "      <td>ACETAMINOPHEN CODEINE</td>\n",
       "      <td>1528036670</td>\n",
       "      <td>MAYWOOD</td>\n",
       "      <td>VINCENT</td>\n",
       "      <td>LANTERI</td>\n",
       "      <td>NJ</td>\n",
       "      <td>True</td>\n",
       "      <td>Urology</td>\n",
       "      <td>28</td>\n",
       "      <td>106</td>\n",
       "      <td>119.43</td>\n",
       "      <td>2013</td>\n",
       "      <td>GENERIC</td>\n",
       "    </tr>\n",
       "    <tr>\n",
       "      <th>6</th>\n",
       "      <td>0</td>\n",
       "      <td>False</td>\n",
       "      <td>OXYBUTYNIN CHLORIDE</td>\n",
       "      <td>OXYBUTYNIN CHLORIDE</td>\n",
       "      <td>1528036670</td>\n",
       "      <td>MAYWOOD</td>\n",
       "      <td>VINCENT</td>\n",
       "      <td>LANTERI</td>\n",
       "      <td>NJ</td>\n",
       "      <td>True</td>\n",
       "      <td>Urology</td>\n",
       "      <td>35</td>\n",
       "      <td>2070</td>\n",
       "      <td>667.09</td>\n",
       "      <td>2013</td>\n",
       "      <td>GENERIC</td>\n",
       "    </tr>\n",
       "    <tr>\n",
       "      <th>7</th>\n",
       "      <td>37</td>\n",
       "      <td>True</td>\n",
       "      <td>VESICARE</td>\n",
       "      <td>SOLIFENACIN SUCCINATE</td>\n",
       "      <td>1528036670</td>\n",
       "      <td>MAYWOOD</td>\n",
       "      <td>VINCENT</td>\n",
       "      <td>LANTERI</td>\n",
       "      <td>NJ</td>\n",
       "      <td>True</td>\n",
       "      <td>Urology</td>\n",
       "      <td>37</td>\n",
       "      <td>2145</td>\n",
       "      <td>13580.78</td>\n",
       "      <td>2013</td>\n",
       "      <td>ASTELLAS</td>\n",
       "    </tr>\n",
       "    <tr>\n",
       "      <th>8</th>\n",
       "      <td>0</td>\n",
       "      <td>False</td>\n",
       "      <td>AMOXICILLIN</td>\n",
       "      <td>AMOXICILLIN</td>\n",
       "      <td>1528036670</td>\n",
       "      <td>MAYWOOD</td>\n",
       "      <td>VINCENT</td>\n",
       "      <td>LANTERI</td>\n",
       "      <td>NJ</td>\n",
       "      <td>True</td>\n",
       "      <td>Urology</td>\n",
       "      <td>15</td>\n",
       "      <td>124</td>\n",
       "      <td>70.21</td>\n",
       "      <td>2013</td>\n",
       "      <td>GENERIC</td>\n",
       "    </tr>\n",
       "    <tr>\n",
       "      <th>9</th>\n",
       "      <td>0</td>\n",
       "      <td>False</td>\n",
       "      <td>CIPROFLOXACIN</td>\n",
       "      <td>CIPROFLOXACIN</td>\n",
       "      <td>1528036670</td>\n",
       "      <td>MAYWOOD</td>\n",
       "      <td>VINCENT</td>\n",
       "      <td>LANTERI</td>\n",
       "      <td>NJ</td>\n",
       "      <td>True</td>\n",
       "      <td>Urology</td>\n",
       "      <td>111</td>\n",
       "      <td>889</td>\n",
       "      <td>645.97</td>\n",
       "      <td>2013</td>\n",
       "      <td>GENERIC</td>\n",
       "    </tr>\n",
       "  </tbody>\n",
       "</table>\n",
       "</div>"
      ],
      "text/plain": [
       "   amount_brand  brand_drug?                   drug_name  \\\n",
       "0            48         True                      VIAGRA   \n",
       "1             0        False  CLOTRIMAZOLE BETAMETHASONE   \n",
       "2             0        False                  IMIPRAMINE   \n",
       "3             0        False              NITROFURANTOIN   \n",
       "4            29         True                    ANDROGEL   \n",
       "5             0        False       ACETAMINOPHEN CODEINE   \n",
       "6             0        False         OXYBUTYNIN CHLORIDE   \n",
       "7            37         True                    VESICARE   \n",
       "8             0        False                 AMOXICILLIN   \n",
       "9             0        False               CIPROFLOXACIN   \n",
       "\n",
       "                 generic_name         npi     city       fn       ln state  \\\n",
       "0                  SILDENAFIL  1528036670  MAYWOOD  VINCENT  LANTERI    NJ   \n",
       "1  CLOTRIMAZOLE BETAMETHASONE  1528036670  MAYWOOD  VINCENT  LANTERI    NJ   \n",
       "2                  IMIPRAMINE  1528036670  MAYWOOD  VINCENT  LANTERI    NJ   \n",
       "3              NITROFURANTOIN  1528036670  MAYWOOD  VINCENT  LANTERI    NJ   \n",
       "4                TESTOSTERONE  1528036670  MAYWOOD  VINCENT  LANTERI    NJ   \n",
       "5       ACETAMINOPHEN CODEINE  1528036670  MAYWOOD  VINCENT  LANTERI    NJ   \n",
       "6         OXYBUTYNIN CHLORIDE  1528036670  MAYWOOD  VINCENT  LANTERI    NJ   \n",
       "7       SOLIFENACIN SUCCINATE  1528036670  MAYWOOD  VINCENT  LANTERI    NJ   \n",
       "8                 AMOXICILLIN  1528036670  MAYWOOD  VINCENT  LANTERI    NJ   \n",
       "9               CIPROFLOXACIN  1528036670  MAYWOOD  VINCENT  LANTERI    NJ   \n",
       "\n",
       "   recieved_payments specialty_description  total_claim_count  \\\n",
       "0               True               Urology                 48   \n",
       "1               True               Urology                 16   \n",
       "2               True               Urology                 27   \n",
       "3               True               Urology                 34   \n",
       "4               True               Urology                 29   \n",
       "5               True               Urology                 28   \n",
       "6               True               Urology                 35   \n",
       "7               True               Urology                 37   \n",
       "8               True               Urology                 15   \n",
       "9               True               Urology                111   \n",
       "\n",
       "   total_day_supply  total_drug_cost  year drug_company  \n",
       "0              1481          8957.33  2013   PFIZER INC  \n",
       "1               367           806.59  2013      GENERIC  \n",
       "2              1380           519.91  2013      GENERIC  \n",
       "3              1480          1502.16  2013      GENERIC  \n",
       "4              1236         17234.63  2013   ABBVIE INC  \n",
       "5               106           119.43  2013      GENERIC  \n",
       "6              2070           667.09  2013      GENERIC  \n",
       "7              2145         13580.78  2013     ASTELLAS  \n",
       "8               124            70.21  2013      GENERIC  \n",
       "9               889           645.97  2013      GENERIC  "
      ]
     },
     "execution_count": 9,
     "metadata": {},
     "output_type": "execute_result"
    }
   ],
   "source": [
    "scripts.head(10)"
   ]
  },
  {
   "cell_type": "code",
   "execution_count": 10,
   "metadata": {},
   "outputs": [],
   "source": [
    "scripts_slim = scripts.copy()\n",
    "scripts_slim = scripts_slim.fillna(\"NULL\")"
   ]
  },
  {
   "cell_type": "code",
   "execution_count": 11,
   "metadata": {},
   "outputs": [],
   "source": [
    "scripts_slim = scripts_slim.groupby(['npi','fn','ln','city','state','specialty_description','recieved_payments',\\\n",
    "                                     'year','brand_drug?','drug_company']).agg({'amount_brand':'sum',\\\n",
    "                                                                                'total_drug_cost':'sum',\\\n",
    "                                                                                'total_claim_count':'sum'}).reset_index()"
   ]
  },
  {
   "cell_type": "code",
   "execution_count": 19,
   "metadata": {},
   "outputs": [
    {
     "data": {
      "text/plain": [
       "(2596517, 531668)"
      ]
     },
     "execution_count": 19,
     "metadata": {},
     "output_type": "execute_result"
    }
   ],
   "source": [
    "len(scripts), len(scripts_slim)"
   ]
  },
  {
   "cell_type": "code",
   "execution_count": 12,
   "metadata": {},
   "outputs": [],
   "source": [
    "scripts_slim.to_csv('nj_scripts_all_years_slim.csv',index=False)"
   ]
  },
  {
   "cell_type": "code",
   "execution_count": 13,
   "metadata": {},
   "outputs": [],
   "source": [
    "dic = {}\n",
    "for i, j in zip(range(len(pay.columns)),pay.columns):\n",
    "    dic[i]=j"
   ]
  },
  {
   "cell_type": "code",
   "execution_count": 14,
   "metadata": {},
   "outputs": [
    {
     "data": {
      "text/plain": [
       "{0: 'payment_id',\n",
       " 1: 'npi',\n",
       " 2: 'fn',\n",
       " 3: 'ln',\n",
       " 4: 'address',\n",
       " 5: 'city',\n",
       " 6: 'state',\n",
       " 7: 'zip',\n",
       " 8: 'specialty',\n",
       " 9: 'company_id',\n",
       " 10: 'company',\n",
       " 11: 'amount',\n",
       " 12: 'form',\n",
       " 13: 'nature',\n",
       " 14: 'phys_owns',\n",
       " 15: 'record_id',\n",
       " 16: 'name_d1',\n",
       " 17: 'name_d2',\n",
       " 18: 'name_d3',\n",
       " 19: 'name_d4',\n",
       " 20: 'name_d5',\n",
       " 21: 'ndc_d1',\n",
       " 22: 'ndc_d2',\n",
       " 23: 'ndc_d3',\n",
       " 24: 'ndc_d4',\n",
       " 25: 'ndc_d5',\n",
       " 26: 'year'}"
      ]
     },
     "execution_count": 14,
     "metadata": {},
     "output_type": "execute_result"
    }
   ],
   "source": [
    "dic"
   ]
  },
  {
   "cell_type": "code",
   "execution_count": 15,
   "metadata": {},
   "outputs": [],
   "source": [
    "pay_slim = pay.copy()\n",
    "pay_slim = pay_slim.fillna(\"NULL\")"
   ]
  },
  {
   "cell_type": "code",
   "execution_count": 16,
   "metadata": {},
   "outputs": [],
   "source": [
    "pay_slim = pay_slim.groupby(['npi','fn','ln','address','city','state','zip','specialty','year',\\\n",
    "                                     'company','form','nature','phys_owns']).agg({'amount':'sum'}).reset_index()"
   ]
  },
  {
   "cell_type": "code",
   "execution_count": 17,
   "metadata": {},
   "outputs": [
    {
     "data": {
      "text/plain": [
       "(1327142, 391176)"
      ]
     },
     "execution_count": 17,
     "metadata": {},
     "output_type": "execute_result"
    }
   ],
   "source": [
    "len(pay), len(pay_slim)"
   ]
  },
  {
   "cell_type": "code",
   "execution_count": 18,
   "metadata": {},
   "outputs": [],
   "source": [
    "pay_slim.to_csv('nj_payments_all_years_consl_slim.csv',index=False)"
   ]
  },
  {
   "cell_type": "markdown",
   "metadata": {},
   "source": [
    "# Confirming columns for slimmed datasets\n",
    "Old code used different columns, confirming no issues with the columns provided in slimmed csv files"
   ]
  },
  {
   "cell_type": "code",
   "execution_count": 21,
   "metadata": {},
   "outputs": [],
   "source": [
    "paid = pd.read_csv('nj_payments_all_years_consl.csv',\n",
    "                            dtype={'zip':object,'npi':object,'company_id':object}, \\\n",
    "                  usecols=[1,2,3,10,11,12,13,26])\n",
    "scripts = pd.read_csv('nj_scripts_all_years.csv',dtype={'zip':object,'npi':object})"
   ]
  },
  {
   "cell_type": "code",
   "execution_count": 22,
   "metadata": {},
   "outputs": [
    {
     "data": {
      "text/plain": [
       "Index(['npi', 'fn', 'ln', 'company', 'amount', 'form', 'nature', 'year'], dtype='object')"
      ]
     },
     "execution_count": 22,
     "metadata": {},
     "output_type": "execute_result"
    }
   ],
   "source": [
    "paid.columns"
   ]
  },
  {
   "cell_type": "code",
   "execution_count": 20,
   "metadata": {},
   "outputs": [
    {
     "data": {
      "text/plain": [
       "Index(['npi', 'fn', 'ln', 'address', 'city', 'state', 'zip', 'specialty',\n",
       "       'year', 'company', 'form', 'nature', 'phys_owns', 'amount'],\n",
       "      dtype='object')"
      ]
     },
     "execution_count": 20,
     "metadata": {},
     "output_type": "execute_result"
    }
   ],
   "source": [
    "pay_slim.columns"
   ]
  },
  {
   "cell_type": "code",
   "execution_count": 26,
   "metadata": {},
   "outputs": [
    {
     "data": {
      "text/plain": [
       "[]"
      ]
     },
     "execution_count": 26,
     "metadata": {},
     "output_type": "execute_result"
    }
   ],
   "source": [
    "[i for i in paid.columns if i not in pay_slim.columns]"
   ]
  },
  {
   "cell_type": "code",
   "execution_count": 23,
   "metadata": {},
   "outputs": [
    {
     "data": {
      "text/plain": [
       "Index(['amount_brand', 'brand_drug?', 'drug_name', 'generic_name', 'npi',\n",
       "       'city', 'fn', 'ln', 'state', 'recieved_payments',\n",
       "       'specialty_description', 'total_claim_count', 'total_day_supply',\n",
       "       'total_drug_cost', 'year', 'drug_company'],\n",
       "      dtype='object')"
      ]
     },
     "execution_count": 23,
     "metadata": {},
     "output_type": "execute_result"
    }
   ],
   "source": [
    "scripts.columns"
   ]
  },
  {
   "cell_type": "code",
   "execution_count": 25,
   "metadata": {},
   "outputs": [
    {
     "data": {
      "text/plain": [
       "Index(['npi', 'fn', 'ln', 'city', 'state', 'specialty_description',\n",
       "       'recieved_payments', 'year', 'brand_drug?', 'drug_company',\n",
       "       'amount_brand', 'total_drug_cost', 'total_claim_count'],\n",
       "      dtype='object')"
      ]
     },
     "execution_count": 25,
     "metadata": {},
     "output_type": "execute_result"
    }
   ],
   "source": [
    "scripts_slim.columns"
   ]
  },
  {
   "cell_type": "code",
   "execution_count": 27,
   "metadata": {},
   "outputs": [
    {
     "data": {
      "text/plain": [
       "['drug_name', 'generic_name', 'total_day_supply']"
      ]
     },
     "execution_count": 27,
     "metadata": {},
     "output_type": "execute_result"
    }
   ],
   "source": [
    "[i for i in scripts.columns if i not in scripts_slim.columns]"
   ]
  },
  {
   "cell_type": "code",
   "execution_count": null,
   "metadata": {},
   "outputs": [],
   "source": []
  }
 ],
 "metadata": {
  "kernelspec": {
   "display_name": "Python 3",
   "language": "python",
   "name": "python3"
  },
  "language_info": {
   "codemirror_mode": {
    "name": "ipython",
    "version": 3
   },
   "file_extension": ".py",
   "mimetype": "text/x-python",
   "name": "python",
   "nbconvert_exporter": "python",
   "pygments_lexer": "ipython3",
   "version": "3.8.3"
  }
 },
 "nbformat": 4,
 "nbformat_minor": 4
}
